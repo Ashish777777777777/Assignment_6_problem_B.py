{
 "cells": [
  {
   "cell_type": "code",
   "execution_count": 1,
   "id": "c5085b5a",
   "metadata": {},
   "outputs": [],
   "source": [
    "import json\n",
    "\n",
    "# Dictionary of Indian states and their capitals\n",
    "states_capitals = {\n",
    "    \"Karnataka\": \"Bengaluru\",\n",
    "    \"Maharashtra\": \"Mumbai\",\n",
    "    \"Tamil Nadu\": \"Chennai\",\n",
    "    \"Uttar Pradesh\": \"Lucknow\",\n",
    "    \"Gujarat\": \"Gandhinagar\",\n",
    "    \"Rajasthan\": \"Jaipur\",\n",
    "    \"Kerala\": \"Thiruvananthapuram\"\n",
    "}\n",
    "\n",
    "# Write the dictionary to a JSON file\n",
    "with open('states_capitals.json', 'w') as json_file:\n",
    "    json.dump(states_capitals, json_file, indent=4)\n"
   ]
  },
  {
   "cell_type": "code",
   "execution_count": 2,
   "id": "23fba1fd",
   "metadata": {},
   "outputs": [
    {
     "name": "stdout",
     "output_type": "stream",
     "text": [
      "State: Karnataka, Capital: Bengaluru\n",
      "State: Maharashtra, Capital: Mumbai\n",
      "State: Tamil Nadu, Capital: Chennai\n",
      "State: Uttar Pradesh, Capital: Lucknow\n",
      "State: Gujarat, Capital: Gandhinagar\n",
      "State: Rajasthan, Capital: Jaipur\n",
      "State: Kerala, Capital: Thiruvananthapuram\n"
     ]
    }
   ],
   "source": [
    "import json\n",
    "\n",
    "# Read data from the JSON file\n",
    "with open('states_capitals.json', 'r') as json_file:\n",
    "    data = json.load(json_file)\n",
    "\n",
    "# Print the data\n",
    "for state, capital in data.items():\n",
    "    print(f\"State: {state}, Capital: {capital}\")\n"
   ]
  },
  {
   "cell_type": "code",
   "execution_count": null,
   "id": "6cf8c645",
   "metadata": {},
   "outputs": [],
   "source": []
  }
 ],
 "metadata": {
  "kernelspec": {
   "display_name": "Python 3 (ipykernel)",
   "language": "python",
   "name": "python3"
  },
  "language_info": {
   "codemirror_mode": {
    "name": "ipython",
    "version": 3
   },
   "file_extension": ".py",
   "mimetype": "text/x-python",
   "name": "python",
   "nbconvert_exporter": "python",
   "pygments_lexer": "ipython3",
   "version": "3.10.9"
  }
 },
 "nbformat": 4,
 "nbformat_minor": 5
}
